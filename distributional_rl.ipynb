{
 "cells": [
  {
   "cell_type": "markdown",
   "metadata": {},
   "source": [
    "# Imports"
   ]
  },
  {
   "cell_type": "code",
   "execution_count": 1,
   "metadata": {
    "collapsed": true
   },
   "outputs": [],
   "source": [
    "import os\n",
    "import time\n",
    "import random\n",
    "import numpy as np\n",
    "\n",
    "import tensorflow as tf\n",
    "import tensorflow.contrib.layers as layers\n",
    "\n",
    "import gym\n",
    "from gym import spaces\n",
    "from PIL import Image\n",
    "from collections import deque, namedtuple\n",
    "from atari_wrappers import wrap_deepmind\n",
    "\n",
    "from IPython import display\n",
    "import matplotlib.pyplot as plt\n",
    "%matplotlib inline"
   ]
  },
  {
   "cell_type": "markdown",
   "metadata": {},
   "source": [
    "# Deep Q-Network and Experience Replay"
   ]
  },
  {
   "cell_type": "code",
   "execution_count": 2,
   "metadata": {
    "collapsed": true
   },
   "outputs": [],
   "source": [
    "from deep_q_learning import QNetwork, ReplayMemory"
   ]
  },
  {
   "cell_type": "markdown",
   "metadata": {},
   "source": [
    "# Agent for playing Atari"
   ]
  },
  {
   "cell_type": "code",
   "execution_count": 3,
   "metadata": {
    "collapsed": true
   },
   "outputs": [],
   "source": [
    "class AtariAgent:\n",
    "    \n",
    "    def __init__(self, game_id, num_actions=None, model_name=\"baseline_agent\"):\n",
    "        \"\"\"Class for training and evaluating DQN agent on Atari games\n",
    "        \n",
    "        Parameters\n",
    "        ----------\n",
    "        game_id: str\n",
    "            game identifier in gym environment, e.g. \"Pong\"\n",
    "        num_actions: int\n",
    "            number of actions the agent can take\n",
    "        model_name: str\n",
    "            name of the model\n",
    "        \"\"\"\n",
    "        \n",
    "        ############################ Game environment ############################\n",
    "        \n",
    "        self.game_id = game_id + \"NoFrameskip-v4\"\n",
    "        self.train_env = wrap_deepmind(gym.make(self.game_id))\n",
    "        self.test_env = wrap_deepmind(gym.make(self.game_id), clip_rewards=False)\n",
    "        \n",
    "        if num_actions is None:\n",
    "            self.num_actions = self.train_env.unwrapped.action_space.n\n",
    "        else:\n",
    "            self.num_actions = num_actions\n",
    "            \n",
    "        self.path = \"./\" + game_id + \"/\" + model_name\n",
    "        if not os.path.exists(self.path):\n",
    "            os.makedirs(self.path)\n",
    "        \n",
    "        ############################# Agent & Target #############################\n",
    "        \n",
    "        tf.reset_default_graph()\n",
    "        self.agent_net = QNetwork(self.num_actions, num_atoms=51, \n",
    "                                  architecture=\"DistDQN\", scope=\"agent\")\n",
    "        self.target_net = QNetwork(self.num_actions, num_atoms=51,\n",
    "                                   architecture=\"DistDQN\", scope=\"target\")\n",
    "        \n",
    "        self.init = tf.global_variables_initializer()\n",
    "        self.saver = tf.train.Saver()\n",
    "        \n",
    "        all_vars = tf.trainable_variables()\n",
    "        num_vars = len(all_vars) // 2\n",
    "        self.agent_vars = all_vars[:num_vars]\n",
    "        self.target_vars = all_vars[num_vars:]\n",
    "        \n",
    "    def set_parameters(self, \n",
    "                       replay_memory_size=50000,\n",
    "                       replay_start_size=10000,\n",
    "                       init_eps=1,\n",
    "                       final_eps=0.1,\n",
    "                       annealing_steps=1000000,\n",
    "                       discount_factor=0.99,\n",
    "                       max_episode_length=2000):\n",
    "        \n",
    "        self.rep_buffer = ReplayMemory(replay_memory_size)\n",
    "        frame_count = 0\n",
    "        while (frame_count < replay_start_size):\n",
    "            s = self.train_env.reset()   \n",
    "            for time_step in range(max_episode_length):\n",
    "                a = np.random.randint(self.num_actions)\n",
    "                s_, r, end, info = self.train_env.step(a)\n",
    "                self.rep_buffer.push(s, a, r, s_, end)\n",
    "                s = s_\n",
    "                frame_count += 1\n",
    "                if end:\n",
    "                    if self.train_env.unwrapped.ale.lives() == 0: break\n",
    "                    else: s = self.train_env.reset()\n",
    "            self.train_env.unwrapped.reset()\n",
    "                        \n",
    "        self.eps = init_eps\n",
    "        self.final_eps = final_eps\n",
    "        self.eps_drop = (init_eps - final_eps) / annealing_steps\n",
    "        self.gamma = discount_factor\n",
    "        self.max_ep_length = max_episode_length\n",
    "        \n",
    "    def train(self,\n",
    "              gpu_id=0,\n",
    "              batch_size=32,\n",
    "              agent_update_freq=4,\n",
    "              target_update_freq=5000,\n",
    "              tau=1,\n",
    "              num_episodes=100000,\n",
    "              model_save_freq=500,\n",
    "              learning_curve_save_freq=500,\n",
    "              performance_print_freq=500,\n",
    "              model_test_freq=200000,\n",
    "              test_episodes_num=20):\n",
    "        \n",
    "        os.environ[\"CUDA_DEVICE_ORDER\"] = \"PCI_BUS_ID\"  \n",
    "        os.environ[\"CUDA_VISIBLE_DEVICES\"] = str(gpu_id)\n",
    "        config = tf.ConfigProto()\n",
    "        config.gpu_options.allow_growth = True\n",
    "        \n",
    "        target_ops = self.update_target_graph(tau)\n",
    "        test_freq_threshold = 1\n",
    "        \n",
    "        with tf.Session(config=config) as sess:\n",
    "            sess.run(self.init)\n",
    "            frame_count = 0\n",
    "            \n",
    "            train_rewards = []\n",
    "            test_rewards = []\n",
    "            frame_counts = []\n",
    "            \n",
    "            for i in range(num_episodes):\n",
    "                s = self.train_env.reset()\n",
    "                train_ep_reward = 0\n",
    "                \n",
    "                for time_step in range(self.max_ep_length):\n",
    "                    \n",
    "                    if np.random.rand(1) < self.eps:\n",
    "                        a = np.random.randint(self.num_actions)\n",
    "                    else:\n",
    "                        a = self.agent_net.argmax_q(sess, [s])\n",
    "                    s_, r, end, info = self.train_env.step(a)\n",
    "                    self.rep_buffer.push(s, a, r, s_, end)\n",
    "                    s = s_\n",
    "                    frame_count += 1\n",
    "                    train_ep_reward += r\n",
    "                    \n",
    "                    if self.eps > self.final_eps:\n",
    "                        self.eps -= self.eps_drop\n",
    "                        \n",
    "                    if frame_count % agent_update_freq == 0:\n",
    "                        \n",
    "                        batch = self.rep_buffer.get_batch(batch_size)\n",
    "                        \n",
    "                        max_actions = self.agent_net.argmax_q(sess, batch.s_)\n",
    "                        target_m = self.target_net.cat_proj(sess, batch.r, batch.s_, \n",
    "                                                            max_actions, batch.end)\n",
    "                        self.agent_net.update(sess, batch.s, batch.a, target_m)\n",
    "                        \n",
    "                        if tau == 1:\n",
    "                            if frame_count % target_update_freq == 0:\n",
    "                                self.update_target_weights(sess, target_ops)\n",
    "                        else: self.update_target_weights(sess, target_ops)\n",
    "                            \n",
    "                    if end: \n",
    "                        if self.train_env.unwrapped.ale.lives() == 0: break\n",
    "                        else: s = self.train_env.reset()\n",
    "                self.train_env.unwrapped.reset()\n",
    "                           \n",
    "                train_rewards.append(train_ep_reward)\n",
    "\n",
    "                if i % model_save_freq == 0:\n",
    "                    self.saver.save(sess, self.path+\"/model-\"+str(i)+\".ckpt\")\n",
    "                    print(\"Model saved.\")\n",
    "\n",
    "                # periodically save the learning curve\n",
    "                if i % learning_curve_save_freq == 0:\n",
    "                    np.savez(self.path+\"/learning_curve.npz\", r=train_rewards)\n",
    "\n",
    "                # periodically print model performance\n",
    "                if i % performance_print_freq == 0:\n",
    "                    avg_reward = np.mean(train_rewards[-performance_print_freq:])\n",
    "                    print(\"Train info:\", frame_count, avg_reward, self.eps)\n",
    "\n",
    "                # periodicaly test greedy policy derived from the model\n",
    "                if frame_count // test_freq_threshold > 0:\n",
    "                    test_freq_threshold += model_test_freq\n",
    "                    one_test_rewards = []\n",
    "\n",
    "                    for j in range(test_episodes_num):\n",
    "                        test_ep_reward = 0\n",
    "                        s = self.test_env.reset()\n",
    "                        for time_step in range(self.max_ep_length):\n",
    "                            a = self.agent_net.argmax_q(sess, [s])\n",
    "                            s, r, end, info = self.test_env.step(a)\n",
    "                            test_ep_reward += r\n",
    "                            if end: \n",
    "                                if self.test_env.unwrapped.ale.lives() == 0: break\n",
    "                                else: s = self.test_env.reset()\n",
    "                        self.test_env.unwrapped.reset()\n",
    "                        one_test_rewards.append(test_ep_reward)\n",
    "\n",
    "                    avg_reward = sum(one_test_rewards[-test_episodes_num:]) / test_episodes_num\n",
    "                    frame_counts.append(frame_count)\n",
    "                    test_rewards.append(one_test_rewards)\n",
    "\n",
    "                    print(\"Test info:\", frame_count, avg_reward)\n",
    "                    np.savez(self.path+'/test_curve.npz', frames=frame_counts, r=test_rewards)            \n",
    "\n",
    "    def update_target_graph(self, tau):\n",
    "        op_holder = []\n",
    "        for agnt, trgt in zip(self.agent_vars, self.target_vars):\n",
    "            op = trgt.assign(agnt.value()*tau + (1 - tau)*trgt.value())\n",
    "            op_holder.append(op)\n",
    "        return op_holder\n",
    "\n",
    "    def update_target_weights(self, sess, op_holder):\n",
    "        for op in op_holder:\n",
    "            sess.run(op)"
   ]
  },
  {
   "cell_type": "markdown",
   "metadata": {},
   "source": [
    "# Train"
   ]
  },
  {
   "cell_type": "code",
   "execution_count": 5,
   "metadata": {},
   "outputs": [
    {
     "name": "stderr",
     "output_type": "stream",
     "text": [
      "[2017-10-19 12:53:31,962] Making new env: BreakoutNoFrameskip-v4\n",
      "[2017-10-19 12:53:32,265] Making new env: BreakoutNoFrameskip-v4\n"
     ]
    }
   ],
   "source": [
    "aa = AtariAgent(\"Breakout\", model_name=\"baseline_distributional\")"
   ]
  },
  {
   "cell_type": "code",
   "execution_count": null,
   "metadata": {
    "collapsed": true
   },
   "outputs": [],
   "source": [
    "aa.set_parameters(max_episode_length=5000, replay_memory_size=100000, replay_start_size=50000)"
   ]
  },
  {
   "cell_type": "code",
   "execution_count": null,
   "metadata": {
    "collapsed": true
   },
   "outputs": [],
   "source": [
    "aa.train(gpu_id=0)"
   ]
  },
  {
   "cell_type": "markdown",
   "metadata": {},
   "source": [
    "# Performace visualization"
   ]
  },
  {
   "cell_type": "code",
   "execution_count": 4,
   "metadata": {
    "collapsed": true
   },
   "outputs": [],
   "source": [
    "def plot_average(r, tau):\n",
    "    ret = np.cumsum(r, dtype=np.float)\n",
    "    ret[tau:] = ret[tau:] - ret[:-tau] \n",
    "    y = ret[tau - 1:] / tau\n",
    "    return y\n",
    "\n",
    "def score(arr, ind=0):\n",
    "    if ind==0:\n",
    "        return arr.min(axis=1)\n",
    "    if ind==1:\n",
    "        return arr.mean(axis=1)\n",
    "    if ind==2:\n",
    "        return arr.max(axis=1)\n",
    "    if ind==3:\n",
    "        arr = np.sort(arr)[:,-3:]\n",
    "        return arr.mean(axis=1)\n",
    "    \n",
    "def plot_performance(path, eta=10, tau=1):\n",
    "    \n",
    "    r_train = np.load(path + \"/learning_curve.npz\")[\"r\"]\n",
    "    r_test = np.load(path + \"/test_curve.npz\")['r']\n",
    "    frames = np.load(path + \"/test_curve.npz\")['frames']/1000000\n",
    "    \n",
    "    fig, ax = plt.subplots(1, 2, figsize=(15, 5))\n",
    "    \n",
    "    x = plot_average(frames, tau)\n",
    "    for i in range(3):\n",
    "        y = plot_average(score(r_test, i), tau)\n",
    "        ax[1].plot(x, y)\n",
    "    ax[1].grid()\n",
    "    \n",
    "    y = plot_average(r_train, eta)\n",
    "    x = np.linspace(x.min(), x.max(), y.size)\n",
    "    \n",
    "    ax[0].plot(x, y)\n",
    "    ax[0].grid()\n",
    "    print (r_test.max())"
   ]
  },
  {
   "cell_type": "code",
   "execution_count": 6,
   "metadata": {},
   "outputs": [
    {
     "name": "stdout",
     "output_type": "stream",
     "text": [
      "423.0\n"
     ]
    },
    {
     "data": {
      "image/png": "[encoded data removed]",
      "text/plain": [
       "<matplotlib.figure.Figure at 0x11c806e80>"
      ]
     },
     "metadata": {},
     "output_type": "display_data"
    }
   ],
   "source": [
    "path = \"Breakout/baseline_distributional/\"\n",
    "plot_performance(path, tau=10, eta=10)"
   ]
  },
  {
   "cell_type": "code",
   "execution_count": null,
   "metadata": {
    "collapsed": true
   },
   "outputs": [],
   "source": []
  }
 ],
 "metadata": {
  "kernelspec": {
   "display_name": "Python 3",
   "language": "python",
   "name": "python3"
  },
  "language_info": {
   "codemirror_mode": {
    "name": "ipython",
    "version": 3
   },
   "file_extension": ".py",
   "mimetype": "text/x-python",
   "name": "python",
   "nbconvert_exporter": "python",
   "pygments_lexer": "ipython3",
   "version": "3.6.1"
  }
 },
 "nbformat": 4,
 "nbformat_minor": 2
}
