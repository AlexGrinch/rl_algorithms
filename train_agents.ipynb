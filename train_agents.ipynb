{
 "cells": [
  {
   "cell_type": "markdown",
   "metadata": {},
   "source": [
    "# Imports"
   ]
  },
  {
   "cell_type": "code",
   "execution_count": null,
   "metadata": {},
   "outputs": [],
   "source": [
    "import gym\n",
    "from utils import *\n",
    "from agents import *\n",
    "from environments import Snake"
   ]
  },
  {
   "cell_type": "markdown",
   "metadata": {},
   "source": [
    "# Snake Environment"
   ]
  },
  {
   "cell_type": "markdown",
   "metadata": {},
   "source": [
    "### Environment initializtion"
   ]
  },
  {
   "cell_type": "code",
   "execution_count": null,
   "metadata": {},
   "outputs": [],
   "source": [
    "env = Snake(grid_size=(8, 8))\n",
    "num_actions = 3"
   ]
  },
  {
   "cell_type": "markdown",
   "metadata": {},
   "source": [
    "### NN training"
   ]
  },
  {
   "cell_type": "code",
   "execution_count": null,
   "metadata": {},
   "outputs": [],
   "source": [
    "snake_agent = DQNAgent(env, num_actions, state_shape=[8, 8, 5],\n",
    "                       convs=[[16, 2, 1], [32, 1, 1]], fully_connected=[128],\n",
    "                       save_path=\"snake_models\", model_name=\"dqn_8x8\")"
   ]
  },
  {
   "cell_type": "code",
   "execution_count": null,
   "metadata": {},
   "outputs": [],
   "source": [
    "snake_agent.set_parameters(max_episode_length=1000, replay_memory_size=100000, replay_start_size=10000,\n",
    "                           discount_factor=0.999, final_eps=0.01, annealing_steps=100000)"
   ]
  },
  {
   "cell_type": "code",
   "execution_count": null,
   "metadata": {
    "scrolled": true
   },
   "outputs": [],
   "source": [
    "# set gpu_id = -1 to use cpu instead if gpu\n",
    "snake_agent.train(gpu_id=-1, exploration=\"boltzmann\", save_freq=500000, max_num_epochs=1000)"
   ]
  },
  {
   "cell_type": "markdown",
   "metadata": {},
   "source": [
    "### Other agents"
   ]
  },
  {
   "cell_type": "code",
   "execution_count": null,
   "metadata": {},
   "outputs": [],
   "source": [
    "# Classic deep Q-network\n",
    "snake_agent = DQNAgent(env, num_actions, state_shape=[8, 8, 5],\n",
    "                       convs=[[16, 2, 1], [32, 1, 1]], fully_connected=[128],\n",
    "                       save_path=\"snake_models\", model_name=\"dqn_8x8\")\n",
    "\n",
    "# Dueling deep Q-network\n",
    "snake_agent = DuelDQNAgent(env, num_actions, state_shape=[8, 8, 5],\n",
    "                           convs=[[16, 2, 1], [32, 1, 1]], fully_connected=[64],\n",
    "                           save_path=\"snake_models\", model_name=\"dueldqn_8x8\")\n",
    "\n",
    "# Categorical deep Q-network (C51)\n",
    "snake_agent = CatDQNAgent(env, num_actions, state_shape=[8, 8, 5],\n",
    "                          convs=[[16, 2, 1], [32, 1, 1]], fully_connected=[128],\n",
    "                          v=(-5, 25), num_atoms=51,\n",
    "                          save_path=\"snake_models\", model_name=\"catdqn_8x8\")\n",
    "\n",
    "# Quantile regression deep Q-network (QR-DQN)\n",
    "snake_agent = QuantRegDQNAgent(env, num_actions, state_shape=[8, 8, 5],\n",
    "                               convs=[[16, 2, 1], [32, 1, 1]], fully_connected=[128],\n",
    "                               num_atoms=100, kappa=1.0,\n",
    "                               save_path=\"snake_models\", model_name=\"quantdqn_8x8\")\n",
    "\n",
    "# Soft Actor-Critic\n",
    "snake_agent = SACAgent(env, num_actions, state_shape=[8, 8, 5],\n",
    "                       convs=[[16, 2, 1], [32, 1, 1]], fully_connected=[128],\n",
    "                       temperature=0.1,\n",
    "                       save_path=\"snake_models\", model_name=\"sac_8x8\")"
   ]
  },
  {
   "cell_type": "markdown",
   "metadata": {
    "collapsed": true
   },
   "source": [
    "# Atari Environment"
   ]
  },
  {
   "cell_type": "markdown",
   "metadata": {},
   "source": [
    "### Environment initializtion"
   ]
  },
  {
   "cell_type": "code",
   "execution_count": null,
   "metadata": {},
   "outputs": [],
   "source": [
    "game_id = \"PongNoFrameskip-v4\"\n",
    "env = wrap_deepmind(gym.make(game_id))\n",
    "num_actions = env.unwrapped.action_space.n"
   ]
  },
  {
   "cell_type": "markdown",
   "metadata": {},
   "source": [
    "### NN training"
   ]
  },
  {
   "cell_type": "code",
   "execution_count": null,
   "metadata": {},
   "outputs": [],
   "source": [
    "atari_agent = DQNAgent(env, num_actions, state_shape=[84, 84, 4],\n",
    "                       convs=[[32, 8, 4], [64, 4, 2], [64, 3, 1]], fully_connected=[512],\n",
    "                       save_path=\"atari_models\", model_name=\"dqn_boi\")"
   ]
  },
  {
   "cell_type": "code",
   "execution_count": null,
   "metadata": {},
   "outputs": [],
   "source": [
    "atari_agent.set_parameters(max_episode_length=100000, discount_factor=0.99, final_eps=0.01,\n",
    "                           replay_memory_size=1000000, replay_start_size=50, annealing_steps=1000000,\n",
    "                           frame_history_len=4)"
   ]
  },
  {
   "cell_type": "code",
   "execution_count": null,
   "metadata": {},
   "outputs": [],
   "source": [
    "atari_agent.train(gpu_id=-1, exploration=\"e-greedy\", save_freq=50000, \n",
    "                  max_num_epochs=1000, performance_print_freq=50)"
   ]
  },
  {
   "cell_type": "markdown",
   "metadata": {},
   "source": [
    "### Other agents"
   ]
  },
  {
   "cell_type": "code",
   "execution_count": null,
   "metadata": {},
   "outputs": [],
   "source": [
    "# Classic deep Q-network\n",
    "atari_agent = DQNAgent(env, num_actions, state_shape=[84, 84, 4],\n",
    "                       convs=[[32, 8, 4], [64, 4, 2], [64, 3, 1]], fully_connected=[512],\n",
    "                       save_path=\"atari_models\", model_name=\"dqn_boi\")\n",
    "\n",
    "# Dueling deep Q-network\n",
    "atari_agent = DuelDQNAgent(env, num_actions, state_shape=[84, 84, 4],\n",
    "                           convs=[[32, 8, 4], [64, 4, 2], [64, 3, 1]], fully_connected=[256],\n",
    "                           save_path=\"atari_models\", model_name=\"dueldqn_boi\")\n",
    "\n",
    "# Categorical deep Q-network (C51)\n",
    "atari_agent = CatDQNAgent(env, num_actions, state_shape=[84, 84, 4],\n",
    "                          convs=[[32, 8, 4], [64, 4, 2], [64, 3, 1]], fully_connected=[512],\n",
    "                          v=(-10, 10), num_atoms=51,\n",
    "                          save_path=\"atari_models\", model_name=\"catdqn_boi\")\n",
    "\n",
    "# Quantile regression deep Q-network (QR-DQN)\n",
    "atari_agent = QuantRegDQNAgent(env, num_actions, state_shape=[84, 84, 4],\n",
    "                               convs=[[32, 8, 4], [64, 4, 2], [64, 3, 1]], fully_connected=[512],\n",
    "                               num_atoms=200, kappa=1,\n",
    "                               save_path=\"atari_models\", model_name=\"quantdqn_boi\")"
   ]
  }
 ],
 "metadata": {
  "kernelspec": {
   "display_name": "Python 3",
   "language": "python",
   "name": "python3"
  },
  "language_info": {
   "codemirror_mode": {
    "name": "ipython",
    "version": 3
   },
   "file_extension": ".py",
   "mimetype": "text/x-python",
   "name": "python",
   "nbconvert_exporter": "python",
   "pygments_lexer": "ipython3",
   "version": "3.6.1"
  }
 },
 "nbformat": 4,
 "nbformat_minor": 2
}
